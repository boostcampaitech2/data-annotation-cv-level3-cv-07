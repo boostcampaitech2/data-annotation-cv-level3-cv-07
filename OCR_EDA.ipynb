{
 "cells": [
  {
   "cell_type": "markdown",
   "metadata": {
    "id": "h24KpW2YL9Cm"
   },
   "source": [
    "## EDA 할 내용\n",
    "- 이미지 당 단어 개수 분포 \n",
    "- 전체 단어 길이 분포\n",
    "- image width, height\n",
    "- 전체 BBOX 크기 분포\n",
    "    - 넓이 기준\n",
    "- 전체 태그 별 분포\n",
    "    - 언어\n",
    "    - orientation\n",
    "    - word tag\n",
    "    - image tag\n",
    "- aspect ratio (가로/세로)\n",
    "   - polygon은 rectify하기"
   ]
  },
  {
   "cell_type": "code",
   "execution_count": null,
   "metadata": {
    "id": "2pR_L1BHL9Co"
   },
   "outputs": [],
   "source": [
    "'''\n",
    "original code source : https://www.kaggle.com/aidapearson/eda-starter-notebook\n",
    "'''"
   ]
  },
  {
   "cell_type": "code",
   "execution_count": 1,
   "metadata": {
    "id": "eO7OcR7bL9Cp"
   },
   "outputs": [],
   "source": [
    "%matplotlib inline\n",
    "import glob\n",
    "import json\n",
    "import matplotlib.pyplot as plt\n",
    "import pandas as pd\n",
    "import seaborn as sns\n",
    "from pathlib import Path\n",
    "from PIL import Image\n",
    "from collections import Counter\n",
    "import numpy as np"
   ]
  },
  {
   "cell_type": "code",
   "execution_count": 2,
   "metadata": {
    "id": "Y75ZoSi5L9Cq"
   },
   "outputs": [],
   "source": [
    "from IPython.core.interactiveshell import InteractiveShell\n",
    "InteractiveShell.ast_node_interactivity = \"all\""
   ]
  },
  {
   "cell_type": "code",
   "execution_count": 3,
   "metadata": {
    "id": "2yOmyrp5L9Cq"
   },
   "outputs": [],
   "source": [
    "def read_json(filename):\n",
    "    with Path(filename).open(encoding='utf8') as handle:\n",
    "        ann = json.load(handle)\n",
    "    return ann"
   ]
  },
  {
   "cell_type": "code",
   "execution_count": 37,
   "metadata": {
    "id": "F5_5YmOdL9Cq"
   },
   "outputs": [],
   "source": [
    "# gt file과 raw image file path를 이용해 데이터를 불러온다. 아래 경로는 예시.\n",
    "# data = read_json(\"../input/data/ICDAR17_Korean/ufo/train.json\")\n",
    "data = read_json(\"../input/data/camper/annotation.json\")"
   ]
  },
  {
   "cell_type": "code",
   "execution_count": 39,
   "metadata": {
    "id": "dCiJnhnBL9Cr"
   },
   "outputs": [],
   "source": [
    "def get_box_size(quads):\n",
    "    \"\"\" 단어 영역의 사각형 좌표가 주어졌을 때 가로, 세로길이를 계산해주는 함수.\n",
    "    TODO: 각 변의 길이를 단순히 max로 처리하기때문에 직사각형에 가까운 형태가 아니면 약간 왜곡이 있다.\n",
    "    Args:\n",
    "        quads: np.ndarray(n, 4, 2) n개 단어 bounding-box의 4개 점 좌표 (단위 pixel)\n",
    "    Return:\n",
    "        sizes: np.ndarray(n, 2) n개 box의 (height, width)쌍\n",
    "    \"\"\"\n",
    "    dists = []\n",
    "    for i, j in [(1, 2), (3, 0), (0, 1), (2, 3)]: # [right(height), left(height), upper(width), lower(width)] sides\n",
    "        dists.append(np.linalg.norm(quads[:, i] - quads[:, j], ord=2, axis=1))\n",
    "\n",
    "    dists = np.stack(dists, axis=-1).reshape(-1, 2, 2) # shape (n, 2, 2) widths, heights into separate dim\n",
    "    return np.rint(dists.mean(axis=-1)).astype(int)"
   ]
  },
  {
   "cell_type": "code",
   "execution_count": 48,
   "metadata": {},
   "outputs": [
    {
     "name": "stdout",
     "output_type": "stream",
     "text": [
      "{'chars': {},\n",
      " 'license_tag': {'commercial': True,\n",
      "                 'holder': 'Upstage',\n",
      "                 'public': False,\n",
      "                 'type': None,\n",
      "                 'usability': True},\n",
      " 'paragraphs': {},\n",
      " 'relations': {},\n",
      " 'tags': {},\n",
      " 'words': {'0': {'language': ['EN'],\n",
      "                 'orientation': 'Horizontal',\n",
      "                 'points': [[67.5, 356.67],\n",
      "                            [802.5, 356.67],\n",
      "                            [802.5, 520.0],\n",
      "                            [67.5, 520.0]],\n",
      "                 'transcription': 'MAGNUM',\n",
      "                 'word_tags': ['blur']},\n",
      "           '1': {'language': ['EN'],\n",
      "                 'orientation': 'Horizontal',\n",
      "                 'points': [[822.5, 381.67],\n",
      "                            [962.5, 381.67],\n",
      "                            [962.5, 520.0],\n",
      "                            [822.5, 520.0]],\n",
      "                 'transcription': 'IN',\n",
      "                 'word_tags': ['blur']},\n",
      "           '10': {'language': ['Others'],\n",
      "                  'orientation': 'Horizontal',\n",
      "                  'points': [[855.83, 596.67],\n",
      "                             [995.83, 596.67],\n",
      "                             [995.83, 671.67],\n",
      "                             [855.83, 671.67]],\n",
      "                  'transcription': '2020.',\n",
      "                  'word_tags': ['blur']},\n",
      "           '11': {'language': ['Others'],\n",
      "                  'orientation': 'Horizontal',\n",
      "                  'points': [[987.5, 598.33],\n",
      "                             [1049.17, 598.33],\n",
      "                             [1049.17, 668.33],\n",
      "                             [987.5, 668.33]],\n",
      "                  'transcription': '2.',\n",
      "                  'word_tags': ['blur']},\n",
      "           '12': {'language': ['Others'],\n",
      "                  'orientation': 'Horizontal',\n",
      "                  'points': [[1037.5, 596.67],\n",
      "                             [1085.83, 596.67],\n",
      "                             [1085.83, 668.33],\n",
      "                             [1037.5, 668.33]],\n",
      "                  'transcription': '9.',\n",
      "                  'word_tags': ['blur']},\n",
      "           '13': {'language': ['Others'],\n",
      "                  'orientation': 'Horizontal',\n",
      "                  'points': [[965.83, 746.67],\n",
      "                             [969.17, 786.67],\n",
      "                             [1155.83, 753.33],\n",
      "                             [1147.5, 716.67]],\n",
      "                  'transcription': '1418819488',\n",
      "                  'word_tags': None},\n",
      "           '14': {'language': ['KO'],\n",
      "                  'orientation': 'Horizontal',\n",
      "                  'points': [[980.83, 885.0],\n",
      "                             [987.5, 920.0],\n",
      "                             [1049.17, 908.33],\n",
      "                             [1040.83, 880.0]],\n",
      "                  'transcription': '일반',\n",
      "                  'word_tags': None},\n",
      "           '15': {'language': ['KO'],\n",
      "                  'orientation': 'Horizontal',\n",
      "                  'points': [[990.83, 918.33],\n",
      "                             [995.83, 946.67],\n",
      "                             [1054.17, 935.0],\n",
      "                             [1044.17, 910.0]],\n",
      "                  'transcription': '일반',\n",
      "                  'word_tags': None},\n",
      "           '16': {'language': ['Others'],\n",
      "                  'orientation': 'Horizontal',\n",
      "                  'points': [[992.5, 948.33],\n",
      "                             [994.17, 980.0],\n",
      "                             [1110.83, 960.0],\n",
      "                             [1100.83, 928.33]],\n",
      "                  'transcription': '15,000원',\n",
      "                  'word_tags': None},\n",
      "           '17': {'language': None,\n",
      "                  'orientation': 'Horizontal',\n",
      "                  'points': [[1010.83, 1058.33],\n",
      "                             [1017.5, 1093.33],\n",
      "                             [1109.17, 1068.33],\n",
      "                             [1097.5, 1040.0]],\n",
      "                  'transcription': '관람일시',\n",
      "                  'word_tags': None},\n",
      "           '18': {'language': None,\n",
      "                  'orientation': 'Horizontal',\n",
      "                  'points': [[1010.83, 1090.0],\n",
      "                             [1014.17, 1115.0],\n",
      "                             [1102.5, 1103.33],\n",
      "                             [1092.5, 1073.33]],\n",
      "                  'transcription': '2019년',\n",
      "                  'word_tags': None},\n",
      "           '19': {'language': None,\n",
      "                  'orientation': 'Horizontal',\n",
      "                  'points': [[1099.17, 1078.33],\n",
      "                             [1099.17, 1103.33],\n",
      "                             [1154.17, 1096.67],\n",
      "                             [1150.83, 1068.33]],\n",
      "                  'transcription': '11월',\n",
      "                  'word_tags': None},\n",
      "           '2': {'language': ['EN'],\n",
      "                 'orientation': 'Horizontal',\n",
      "                 'points': [[987.5, 398.33],\n",
      "                            [1339.17, 398.33],\n",
      "                            [1339.17, 521.67],\n",
      "                            [987.5, 521.67]],\n",
      "                 'transcription': 'PARIS',\n",
      "                 'word_tags': None},\n",
      "           '20': {'language': None,\n",
      "                  'orientation': 'Horizontal',\n",
      "                  'points': [[1147.5, 1073.33],\n",
      "                             [1149.17, 1100.0],\n",
      "                             [1247.5, 1085.0],\n",
      "                             [1234.17, 1051.67]],\n",
      "                  'transcription': '02일(토)',\n",
      "                  'word_tags': None},\n",
      "           '21': {'language': None,\n",
      "                  'orientation': 'Horizontal',\n",
      "                  'points': [[1240.83, 1055.0],\n",
      "                             [1242.5, 1090.0],\n",
      "                             [1315.83, 1073.33],\n",
      "                             [1307.5, 1040.0]],\n",
      "                  'transcription': '11:00',\n",
      "                  'word_tags': None},\n",
      "           '22': {'language': None,\n",
      "                  'orientation': 'Horizontal',\n",
      "                  'points': [[1220.83, 703.33],\n",
      "                             [1234.17, 760.0],\n",
      "                             [1269.17, 755.0],\n",
      "                             [1257.5, 690.0]],\n",
      "                  'transcription': '입장권',\n",
      "                  'word_tags': None},\n",
      "           '23': {'language': ['EN'],\n",
      "                  'orientation': 'Horizontal',\n",
      "                  'points': [[1240.83, 766.67],\n",
      "                             [1252.5, 838.33],\n",
      "                             [1294.17, 826.67],\n",
      "                             [1274.17, 751.67]],\n",
      "                  'transcription': 'TICKET',\n",
      "                  'word_tags': None},\n",
      "           '24': {'language': ['EN'],\n",
      "                  'orientation': 'Horizontal',\n",
      "                  'points': [[925.83, 1036.67],\n",
      "                             [932.5, 1111.67],\n",
      "                             [1000.83, 1096.67],\n",
      "                             [984.17, 1016.67]],\n",
      "                  'transcription': 'IN',\n",
      "                  'word_tags': None},\n",
      "           '25': {'language': None,\n",
      "                  'orientation': 'Horizontal',\n",
      "                  'points': [[935, 1112.22]],\n",
      "                  'transcription': '',\n",
      "                  'word_tags': None},\n",
      "           '26': {'language': ['EN'],\n",
      "                  'orientation': 'Horizontal',\n",
      "                  'points': [[971.67, 1312.22],\n",
      "                             [1043.89, 1303.33],\n",
      "                             [1003.89, 1098.89],\n",
      "                             [936.11, 1118.89]],\n",
      "                  'transcription': 'PARIS',\n",
      "                  'word_tags': None},\n",
      "           '27': {'language': None,\n",
      "                  'orientation': 'Horizontal',\n",
      "                  'points': [[1026.11, 1155.56],\n",
      "                             [1029.44, 1186.67],\n",
      "                             [1147.22, 1170.0],\n",
      "                             [1140.56, 1141.11]],\n",
      "                  'transcription': '2019/11/02',\n",
      "                  'word_tags': None},\n",
      "           '28': {'language': ['KO'],\n",
      "                  'orientation': 'Horizontal',\n",
      "                  'points': [[1152.78, 1143.33],\n",
      "                             [1157.22, 1168.89],\n",
      "                             [1205, 1162.22],\n",
      "                             [1201.67, 1131.11]],\n",
      "                  'transcription': '현장',\n",
      "                  'word_tags': None},\n",
      "           '29': {'language': ['KO'],\n",
      "                  'orientation': 'Horizontal',\n",
      "                  'points': [[1036.11, 1206.67],\n",
      "                             [1037.22, 1233.33],\n",
      "                             [1128.33, 1218.89],\n",
      "                             [1123.89, 1195.56]],\n",
      "                  'transcription': '신용카드',\n",
      "                  'word_tags': None},\n",
      "           '3': {'language': ['KO'],\n",
      "                 'orientation': 'Horizontal',\n",
      "                 'points': [[190.83, 853.33],\n",
      "                            [510.83, 798.33],\n",
      "                            [529.17, 891.67],\n",
      "                            [200.83, 946.67]],\n",
      "                 'transcription': '매그넘',\n",
      "                 'word_tags': None},\n",
      "           '30': {'language': None,\n",
      "                  'orientation': 'Horizontal',\n",
      "                  'points': [[1035, 1230.0],\n",
      "                             [1036.11, 1253.33],\n",
      "                             [1137.22, 1238.89],\n",
      "                             [1127.22, 1216.67]],\n",
      "                  'transcription': '33217893',\n",
      "                  'word_tags': None},\n",
      "           '31': {'language': None,\n",
      "                  'orientation': 'Horizontal',\n",
      "                  'points': [[1041.67, 1251.11],\n",
      "                             [1043.89, 1270.0],\n",
      "                             [1220.56, 1247.78],\n",
      "                             [1223.89, 1222.22]],\n",
      "                  'transcription': '20191102-t11823-1-168',\n",
      "                  'word_tags': None},\n",
      "           '32': {'language': None,\n",
      "                  'orientation': 'Horizontal',\n",
      "                  'points': [[1213.89, 1228.89],\n",
      "                             [1221.67, 1252.22],\n",
      "                             [1263.89, 1240.0],\n",
      "                             [1257.22, 1226.67]],\n",
      "                  'transcription': '(1/1)',\n",
      "                  'word_tags': None},\n",
      "           '33': {'language': None,\n",
      "                  'orientation': 'Horizontal',\n",
      "                  'points': [[1045, 1276.67],\n",
      "                             [1045, 1295.56],\n",
      "                             [1128.33, 1283.33],\n",
      "                             [1128.33, 1261.11]],\n",
      "                  'transcription': '2019/11/02',\n",
      "                  'word_tags': None},\n",
      "           '34': {'language': None,\n",
      "                  'orientation': 'Horizontal',\n",
      "                  'points': [[1123.89, 1261.11],\n",
      "                             [1129.44, 1285.56],\n",
      "                             [1198.33, 1270.0],\n",
      "                             [1190.56, 1250.0]],\n",
      "                  'transcription': '13:50:46',\n",
      "                  'word_tags': None},\n",
      "           '35': {'language': None,\n",
      "                  'orientation': 'Horizontal',\n",
      "                  'points': [[1277.22, 1078.89],\n",
      "                             [1281.67, 1113.33],\n",
      "                             [1312.78, 1110.0],\n",
      "                             [1303.89, 1070.0]],\n",
      "                  'transcription': '앙리',\n",
      "                  'word_tags': None},\n",
      "           '36': {'language': ['KO'],\n",
      "                  'orientation': 'Horizontal',\n",
      "                  'points': [[1290.56, 1110.0],\n",
      "                             [1296.11, 1167.78],\n",
      "                             [1322.78, 1163.33],\n",
      "                             [1308.33, 1097.78]],\n",
      "                  'transcription': '카르티에',\n",
      "                  'word_tags': None},\n",
      "           '37': {'language': ['KO'],\n",
      "                  'orientation': 'Horizontal',\n",
      "                  'points': [[1298.33, 1163.33],\n",
      "                             [1306.11, 1215.56],\n",
      "                             [1329.44, 1208.89],\n",
      "                             [1321.67, 1157.78]],\n",
      "                  'transcription': '브레송',\n",
      "                  'word_tags': None},\n",
      "           '38': {'language': ['KO'],\n",
      "                  'orientation': 'Horizontal',\n",
      "                  'points': [[1308.33, 1227.78],\n",
      "                             [1311.67, 1260.0],\n",
      "                             [1336.11, 1256.67],\n",
      "                             [1329.44, 1223.33]],\n",
      "                  'transcription': '파리',\n",
      "                  'word_tags': None},\n",
      "           '39': {'language': ['EN'],\n",
      "                  'orientation': 'Horizontal',\n",
      "                  'points': [[1312.5, 1124],\n",
      "                             [1343.5, 1124],\n",
      "                             [1343.5, 1182],\n",
      "                             [1312.5, 1182]],\n",
      "                  'transcription': 'Special',\n",
      "                  'word_tags': None},\n",
      "           '4': {'language': ['KO'],\n",
      "                 'orientation': 'Horizontal',\n",
      "                 'points': [[527.5, 798.33],\n",
      "                            [542.5, 888.33],\n",
      "                            [649.17, 876.67],\n",
      "                            [635.83, 780.0]],\n",
      "                 'transcription': '인',\n",
      "                 'word_tags': None},\n",
      "           '40': {'language': None,\n",
      "                  'orientation': 'Horizontal',\n",
      "                  'points': [[1320.5, 1183.0],\n",
      "                             [1355.5, 1183.0],\n",
      "                             [1355.5, 1255.0],\n",
      "                             [1320.5, 1255.0]],\n",
      "                  'transcription': 'Exhibition',\n",
      "                  'word_tags': None},\n",
      "           '41': {'language': None,\n",
      "                  'orientation': 'Horizontal',\n",
      "                  'points': [[169.5, 1138.0],\n",
      "                             [205.5, 1128.0],\n",
      "                             [225.5, 1316.0],\n",
      "                             [195.5, 1325.0]],\n",
      "                  'transcription': '한가람디자인미술관',\n",
      "                  'word_tags': None},\n",
      "           '42': {'language': None,\n",
      "                  'orientation': 'Horizontal',\n",
      "                  'points': [[198.5, 1324.0],\n",
      "                             [226.5, 1321.0],\n",
      "                             [240.5, 1419.0],\n",
      "                             [211.5, 1429.0]],\n",
      "                  'transcription': '예술의전당',\n",
      "                  'word_tags': None},\n",
      "           '5': {'language': None,\n",
      "                 'orientation': 'Horizontal',\n",
      "                 'points': [[647.5, 775.0],\n",
      "                            [660.83, 873.33],\n",
      "                            [875.83, 836.67],\n",
      "                            [860.83, 733.33]],\n",
      "                 'transcription': '파리',\n",
      "                 'word_tags': None},\n",
      "           '6': {'language': ['EN'],\n",
      "                 'orientation': 'Vertical',\n",
      "                 'points': [[875.83, 740.0],\n",
      "                            [922.5, 1021.67],\n",
      "                            [990.83, 1013.33],\n",
      "                            [935.83, 733.33]],\n",
      "                 'transcription': 'MAGNUM',\n",
      "                 'word_tags': None},\n",
      "           '7': {'language': ['Others'],\n",
      "                 'orientation': 'Horizontal',\n",
      "                 'points': [[519.17, 606.67],\n",
      "                            [685.83, 606.67],\n",
      "                            [685.83, 675.0],\n",
      "                            [519.17, 675.0]],\n",
      "                 'transcription': '2019.',\n",
      "                 'word_tags': None},\n",
      "           '8': {'language': ['Others'],\n",
      "                 'orientation': 'Horizontal',\n",
      "                 'points': [[689.17, 600.0],\n",
      "                            [740.83, 600.0],\n",
      "                            [740.83, 680.0],\n",
      "                            [689.17, 680.0]],\n",
      "                 'transcription': '9.',\n",
      "                 'word_tags': ['blur']},\n",
      "           '9': {'language': ['Others'],\n",
      "                 'orientation': 'Horizontal',\n",
      "                 'points': [[742.5, 598.33],\n",
      "                            [812.5, 598.33],\n",
      "                            [812.5, 675.0],\n",
      "                            [742.5, 675.0]],\n",
      "                 'transcription': '25',\n",
      "                 'word_tags': ['blur']}}}\n"
     ]
    }
   ],
   "source": [
    "from pprint import pprint\n",
    "\n",
    "pprint(data['images']['14B9AA34-3F88-40E2-A3E8-6A2ED0CAE7E1.JPG'])"
   ]
  },
  {
   "cell_type": "code",
   "execution_count": 68,
   "metadata": {
    "id": "24cTfnCrL9Cr"
   },
   "outputs": [],
   "source": [
    "def rectify_poly(poly, direction, img_w, img_h):\n",
    "    \"\"\"일반 polygon형태인 라벨을 크롭하고 rectify해주는 함수.\n",
    "    Args:\n",
    "        poly: np.ndarray(2n+4, 2) (where n>0), 4, 6, 8\n",
    "        image: np.ndarray opencv 포멧의 이미지\n",
    "        direction: 글자의 읽는 방향과 진행 방향의 수평(Horizontal) 혹은 수직(Vertical) 여부\n",
    "    Return:\n",
    "        rectified: np.ndarray(2, ?) rectify된 단어 bbox의 사이즈.\n",
    "    \"\"\"\n",
    "    \n",
    "    n_pts = poly.shape[0]\n",
    "    # assert n_pts % 2 == 0\n",
    "    if n_pts == 4:\n",
    "        size = get_box_size(poly[None])\n",
    "        h = size[:, 0] / img_h\n",
    "        w = size[:, 1] / img_w\n",
    "        return np.stack((h,w))\n",
    "\n",
    "    def unroll(indices):\n",
    "        return list(zip(indices[:-1], indices[1:]))\n",
    "\n",
    "    # polygon하나를 인접한 사각형 여러개로 쪼갠다.\n",
    "    indices = list(range(n_pts))\n",
    "    if direction == 'Horizontal':\n",
    "        upper_pts = unroll(indices[:n_pts // 2]) # (0, 1), (1, 2), ... (4, 5)\n",
    "        lower_pts = unroll(indices[n_pts // 2:])[::-1] # (8, 9), (7, 8), ... (6, 7)\n",
    "\n",
    "        quads = np.stack([poly[[i, j, k, l]] for (i, j), (k, l) in zip(upper_pts, lower_pts)])\n",
    "    else:\n",
    "        right_pts = unroll(indices[1:n_pts // 2 + 1]) # (1, 2), (2, 3), ... (4, 5)\n",
    "        left_pts = unroll([0] + indices[:n_pts // 2:-1]) # (0, 9), (9, 8), ... (7, 6)\n",
    "\n",
    "        quads = np.stack([poly[[i, j, k, l]] for (j, k), (i, l) in zip(right_pts, left_pts)])\n",
    "\n",
    "    sizes = get_box_size(quads)\n",
    "    if direction == 'Horizontal':\n",
    "        h = sizes[:, 0].max() / img_h\n",
    "        widths = sizes[:, 1]\n",
    "        w = np.sum(widths) / img_w\n",
    "        return np.stack((h,w)).reshape(2,-1)\n",
    "        #return np.stack((h,w))\n",
    "    elif direction == 'Vertical':\n",
    "        heights = sizes[:, 0]\n",
    "        w = sizes[:, 1].max() / img_w\n",
    "        h = np.sum(heights) / img_h\n",
    "        return np.stack((h,w)).reshape(2,-1)\n",
    "    else:\n",
    "        h = sizes[:, 0] / img_h\n",
    "        w = sizes[:, 1] / img_w\n",
    "        return np.stack((h,w),-1)"
   ]
  },
  {
   "cell_type": "code",
   "execution_count": 69,
   "metadata": {
    "id": "E9_VkNJcL9Cs"
   },
   "outputs": [
    {
     "ename": "ValueError",
     "evalue": "need at least one array to stack",
     "output_type": "error",
     "traceback": [
      "\u001b[0;31m---------------------------------------------------------------------------\u001b[0m",
      "\u001b[0;31mValueError\u001b[0m                                Traceback (most recent call last)",
      "\u001b[0;32m/tmp/ipykernel_268/695555974.py\u001b[0m in \u001b[0;36m<module>\u001b[0;34m\u001b[0m\n\u001b[1;32m     40\u001b[0m             \u001b[0mword_tags\u001b[0m\u001b[0;34m.\u001b[0m\u001b[0mappend\u001b[0m\u001b[0;34m(\u001b[0m\u001b[0;34m'None'\u001b[0m\u001b[0;34m)\u001b[0m\u001b[0;34m\u001b[0m\u001b[0;34m\u001b[0m\u001b[0m\n\u001b[1;32m     41\u001b[0m         \u001b[0mpoly\u001b[0m \u001b[0;34m=\u001b[0m \u001b[0mnp\u001b[0m\u001b[0;34m.\u001b[0m\u001b[0mint32\u001b[0m\u001b[0;34m(\u001b[0m\u001b[0mword\u001b[0m\u001b[0;34m[\u001b[0m\u001b[0;34m'points'\u001b[0m\u001b[0;34m]\u001b[0m\u001b[0;34m)\u001b[0m\u001b[0;34m\u001b[0m\u001b[0;34m\u001b[0m\u001b[0m\n\u001b[0;32m---> 42\u001b[0;31m         \u001b[0msize\u001b[0m \u001b[0;34m=\u001b[0m \u001b[0mrectify_poly\u001b[0m\u001b[0;34m(\u001b[0m\u001b[0mpoly\u001b[0m\u001b[0;34m,\u001b[0m \u001b[0mword\u001b[0m\u001b[0;34m[\u001b[0m\u001b[0;34m'orientation'\u001b[0m\u001b[0;34m]\u001b[0m\u001b[0;34m,\u001b[0m \u001b[0mimg_w\u001b[0m\u001b[0;34m,\u001b[0m \u001b[0mimg_h\u001b[0m\u001b[0;34m)\u001b[0m\u001b[0;34m\u001b[0m\u001b[0;34m\u001b[0m\u001b[0m\n\u001b[0m\u001b[1;32m     43\u001b[0m         \u001b[0;32mif\u001b[0m \u001b[0mword\u001b[0m\u001b[0;34m[\u001b[0m\u001b[0;34m'orientation'\u001b[0m\u001b[0;34m]\u001b[0m \u001b[0;34m==\u001b[0m \u001b[0;34m'Horizontal'\u001b[0m\u001b[0;34m:\u001b[0m\u001b[0;34m\u001b[0m\u001b[0;34m\u001b[0m\u001b[0m\n\u001b[1;32m     44\u001b[0m             \u001b[0mhor_sizes\u001b[0m\u001b[0;34m.\u001b[0m\u001b[0mappend\u001b[0m\u001b[0;34m(\u001b[0m\u001b[0msize\u001b[0m\u001b[0;34m)\u001b[0m\u001b[0;34m\u001b[0m\u001b[0;34m\u001b[0m\u001b[0m\n",
      "\u001b[0;32m/tmp/ipykernel_268/2799647637.py\u001b[0m in \u001b[0;36mrectify_poly\u001b[0;34m(poly, direction, img_w, img_h)\u001b[0m\n\u001b[1;32m     26\u001b[0m         \u001b[0mlower_pts\u001b[0m \u001b[0;34m=\u001b[0m \u001b[0munroll\u001b[0m\u001b[0;34m(\u001b[0m\u001b[0mindices\u001b[0m\u001b[0;34m[\u001b[0m\u001b[0mn_pts\u001b[0m \u001b[0;34m//\u001b[0m \u001b[0;36m2\u001b[0m\u001b[0;34m:\u001b[0m\u001b[0;34m]\u001b[0m\u001b[0;34m)\u001b[0m\u001b[0;34m[\u001b[0m\u001b[0;34m:\u001b[0m\u001b[0;34m:\u001b[0m\u001b[0;34m-\u001b[0m\u001b[0;36m1\u001b[0m\u001b[0;34m]\u001b[0m \u001b[0;31m# (8, 9), (7, 8), ... (6, 7)\u001b[0m\u001b[0;34m\u001b[0m\u001b[0;34m\u001b[0m\u001b[0m\n\u001b[1;32m     27\u001b[0m \u001b[0;34m\u001b[0m\u001b[0m\n\u001b[0;32m---> 28\u001b[0;31m         \u001b[0mquads\u001b[0m \u001b[0;34m=\u001b[0m \u001b[0mnp\u001b[0m\u001b[0;34m.\u001b[0m\u001b[0mstack\u001b[0m\u001b[0;34m(\u001b[0m\u001b[0;34m[\u001b[0m\u001b[0mpoly\u001b[0m\u001b[0;34m[\u001b[0m\u001b[0;34m[\u001b[0m\u001b[0mi\u001b[0m\u001b[0;34m,\u001b[0m \u001b[0mj\u001b[0m\u001b[0;34m,\u001b[0m \u001b[0mk\u001b[0m\u001b[0;34m,\u001b[0m \u001b[0ml\u001b[0m\u001b[0;34m]\u001b[0m\u001b[0;34m]\u001b[0m \u001b[0;32mfor\u001b[0m \u001b[0;34m(\u001b[0m\u001b[0mi\u001b[0m\u001b[0;34m,\u001b[0m \u001b[0mj\u001b[0m\u001b[0;34m)\u001b[0m\u001b[0;34m,\u001b[0m \u001b[0;34m(\u001b[0m\u001b[0mk\u001b[0m\u001b[0;34m,\u001b[0m \u001b[0ml\u001b[0m\u001b[0;34m)\u001b[0m \u001b[0;32min\u001b[0m \u001b[0mzip\u001b[0m\u001b[0;34m(\u001b[0m\u001b[0mupper_pts\u001b[0m\u001b[0;34m,\u001b[0m \u001b[0mlower_pts\u001b[0m\u001b[0;34m)\u001b[0m\u001b[0;34m]\u001b[0m\u001b[0;34m)\u001b[0m\u001b[0;34m\u001b[0m\u001b[0;34m\u001b[0m\u001b[0m\n\u001b[0m\u001b[1;32m     29\u001b[0m     \u001b[0;32melse\u001b[0m\u001b[0;34m:\u001b[0m\u001b[0;34m\u001b[0m\u001b[0;34m\u001b[0m\u001b[0m\n\u001b[1;32m     30\u001b[0m         \u001b[0mright_pts\u001b[0m \u001b[0;34m=\u001b[0m \u001b[0munroll\u001b[0m\u001b[0;34m(\u001b[0m\u001b[0mindices\u001b[0m\u001b[0;34m[\u001b[0m\u001b[0;36m1\u001b[0m\u001b[0;34m:\u001b[0m\u001b[0mn_pts\u001b[0m \u001b[0;34m//\u001b[0m \u001b[0;36m2\u001b[0m \u001b[0;34m+\u001b[0m \u001b[0;36m1\u001b[0m\u001b[0;34m]\u001b[0m\u001b[0;34m)\u001b[0m \u001b[0;31m# (1, 2), (2, 3), ... (4, 5)\u001b[0m\u001b[0;34m\u001b[0m\u001b[0;34m\u001b[0m\u001b[0m\n",
      "\u001b[0;32m<__array_function__ internals>\u001b[0m in \u001b[0;36mstack\u001b[0;34m(*args, **kwargs)\u001b[0m\n",
      "\u001b[0;32m/opt/conda/lib/python3.8/site-packages/numpy/core/shape_base.py\u001b[0m in \u001b[0;36mstack\u001b[0;34m(arrays, axis, out)\u001b[0m\n\u001b[1;32m    420\u001b[0m     \u001b[0marrays\u001b[0m \u001b[0;34m=\u001b[0m \u001b[0;34m[\u001b[0m\u001b[0masanyarray\u001b[0m\u001b[0;34m(\u001b[0m\u001b[0marr\u001b[0m\u001b[0;34m)\u001b[0m \u001b[0;32mfor\u001b[0m \u001b[0marr\u001b[0m \u001b[0;32min\u001b[0m \u001b[0marrays\u001b[0m\u001b[0;34m]\u001b[0m\u001b[0;34m\u001b[0m\u001b[0;34m\u001b[0m\u001b[0m\n\u001b[1;32m    421\u001b[0m     \u001b[0;32mif\u001b[0m \u001b[0;32mnot\u001b[0m \u001b[0marrays\u001b[0m\u001b[0;34m:\u001b[0m\u001b[0;34m\u001b[0m\u001b[0;34m\u001b[0m\u001b[0m\n\u001b[0;32m--> 422\u001b[0;31m         \u001b[0;32mraise\u001b[0m \u001b[0mValueError\u001b[0m\u001b[0;34m(\u001b[0m\u001b[0;34m'need at least one array to stack'\u001b[0m\u001b[0;34m)\u001b[0m\u001b[0;34m\u001b[0m\u001b[0;34m\u001b[0m\u001b[0m\n\u001b[0m\u001b[1;32m    423\u001b[0m \u001b[0;34m\u001b[0m\u001b[0m\n\u001b[1;32m    424\u001b[0m     \u001b[0mshapes\u001b[0m \u001b[0;34m=\u001b[0m \u001b[0;34m{\u001b[0m\u001b[0marr\u001b[0m\u001b[0;34m.\u001b[0m\u001b[0mshape\u001b[0m \u001b[0;32mfor\u001b[0m \u001b[0marr\u001b[0m \u001b[0;32min\u001b[0m \u001b[0marrays\u001b[0m\u001b[0;34m}\u001b[0m\u001b[0;34m\u001b[0m\u001b[0;34m\u001b[0m\u001b[0m\n",
      "\u001b[0;31mValueError\u001b[0m: need at least one array to stack"
     ]
    }
   ],
   "source": [
    "df = {}\n",
    "df['image'] = []\n",
    "df['word_counts'] = []\n",
    "# df['image_width'] = []\n",
    "# df['image_height'] = []\n",
    "df['image_tags'] = []\n",
    "img_tags = []\n",
    "\n",
    "quads = []\n",
    "polys = []\n",
    "seq_length = []\n",
    "hor_sizes = []\n",
    "ver_sizes = []\n",
    "irr_sizes = []\n",
    "languages = []\n",
    "orientation = []\n",
    "word_tags = []\n",
    "aspect_ratio = []\n",
    "ver_string = []\n",
    "\n",
    "for image_key, image_value in data[\"images\"].items():\n",
    "    df['image'].append(image_key)\n",
    "    # img_w = image_value['img_w']\n",
    "    # img_h = image_value['img_h']\n",
    "    # df['image_width'].append(img_w)\n",
    "    # df['image_height'].append(img_h)\n",
    "    df['image_tags'].append(image_value['tags'])\n",
    "    df['image_tags']= [['None'] if v is None else v for v in df['image_tags']] # our data does not inlcude multi-tag images \n",
    "    word_ann = image_value['words']\n",
    "    count_ill = 0 \n",
    "    for word in word_ann.values():\n",
    "        orientation.append(word['orientation'])\n",
    "        orientation = [v for v in orientation]\n",
    "        seq_length.append(len(word['transcription']))\n",
    "        languages.append(word['language'])\n",
    "        languages = [['None'] if v is None else v for v in languages] # our data does not inlcude multi-language words\n",
    "        if word['word_tags'] != None:\n",
    "            word_tags.extend(word['word_tags'][:])\n",
    "        elif word['word_tags']== None:\n",
    "            word_tags.append('None')\n",
    "        poly = np.int32(word['points'])\n",
    "        size = rectify_poly(poly, word['orientation'], img_w, img_h)\n",
    "        if word['orientation'] == 'Horizontal':\n",
    "            hor_sizes.append(size)\n",
    "        elif word['orientation'] == 'Vertical':\n",
    "            ver_sizes.append(size)\n",
    "        else:\n",
    "            irr_sizes.append(size)\n",
    "\n",
    "\n",
    "#         if word['illegibility']== False:\n",
    "#             orientation.append(word['orientation'])\n",
    "#             orientation = [v for v in orientation]\n",
    "#             seq_length.append(len(word['transcription']))\n",
    "#             languages.append(word['language'])\n",
    "#             languages = [['None'] if v is None else v for v in languages] # our data does not inlcude multi-language words\n",
    "#             if word['word_tags'] != None:\n",
    "#                 word_tags.extend(word['word_tags'][:])\n",
    "#             elif word['word_tags']== None:\n",
    "#                 word_tags.append('None')\n",
    "#             poly = np.int32(word['points'])\n",
    "#             size = rectify_poly(poly, word['orientation'], img_w, img_h)\n",
    "#             if word['orientation'] == 'Horizontal':\n",
    "#                 hor_sizes.append(size)\n",
    "#             elif word['orientation'] == 'Vertical':\n",
    "#                 ver_sizes.append(size)\n",
    "#             else:\n",
    "#                 irr_sizes.append(size)\n",
    "            \n",
    "#         else:\n",
    "#             count_ill += 1\n",
    "    df['word_counts'].append(len(word_ann)-count_ill)\n",
    "\n",
    "        \n",
    "all_sizes = hor_sizes + ver_sizes + irr_sizes\n",
    "quad_area = [all_sizes[i][0]*all_sizes[i][1] for i in range(len(all_sizes))]\n",
    "total_area = []\n",
    "for s in quad_area:\n",
    "    if s.shape[0] == 1:\n",
    "        total_area.append(np.sum(s[0])) \n",
    "    else:\n",
    "        total_area.append(np.sum(s))\n",
    "\n",
    "hor_aspect_ratio = [hor_sizes[i][1]/hor_sizes[i][0] for i in range(len(hor_sizes))]\n",
    "ver_aspect_ratio = [ver_sizes[i][1]/ver_sizes[i][0] for i in range(len(ver_sizes))]\n",
    "\n",
    "image_df = pd.DataFrame.from_dict(df)"
   ]
  },
  {
   "cell_type": "code",
   "execution_count": 52,
   "metadata": {
    "id": "tnSGtrrpL9Ct",
    "outputId": "90512162-bf4e-4a24-e777-0306d3922c14"
   },
   "outputs": [
    {
     "data": {
      "text/html": [
       "<div>\n",
       "<style scoped>\n",
       "    .dataframe tbody tr th:only-of-type {\n",
       "        vertical-align: middle;\n",
       "    }\n",
       "\n",
       "    .dataframe tbody tr th {\n",
       "        vertical-align: top;\n",
       "    }\n",
       "\n",
       "    .dataframe thead th {\n",
       "        text-align: right;\n",
       "    }\n",
       "</style>\n",
       "<table border=\"1\" class=\"dataframe\">\n",
       "  <thead>\n",
       "    <tr style=\"text-align: right;\">\n",
       "      <th></th>\n",
       "      <th>image</th>\n",
       "      <th>word_counts</th>\n",
       "      <th>image_tags</th>\n",
       "    </tr>\n",
       "  </thead>\n",
       "  <tbody>\n",
       "    <tr>\n",
       "      <th>0</th>\n",
       "      <td>14B9AA34-3F88-40E2-A3E8-6A2ED0CAE7E1.JPG</td>\n",
       "      <td>43</td>\n",
       "      <td></td>\n",
       "    </tr>\n",
       "    <tr>\n",
       "      <th>1</th>\n",
       "      <td>1631619209578-10.jpg</td>\n",
       "      <td>4</td>\n",
       "      <td></td>\n",
       "    </tr>\n",
       "    <tr>\n",
       "      <th>2</th>\n",
       "      <td>1632643837411-12.jpg</td>\n",
       "      <td>20</td>\n",
       "      <td></td>\n",
       "    </tr>\n",
       "    <tr>\n",
       "      <th>3</th>\n",
       "      <td>1632644162889-2.jpg</td>\n",
       "      <td>4</td>\n",
       "      <td></td>\n",
       "    </tr>\n",
       "    <tr>\n",
       "      <th>4</th>\n",
       "      <td>1632651294334-28.jpg</td>\n",
       "      <td>11</td>\n",
       "      <td></td>\n",
       "    </tr>\n",
       "    <tr>\n",
       "      <th>...</th>\n",
       "      <td>...</td>\n",
       "      <td>...</td>\n",
       "      <td>...</td>\n",
       "    </tr>\n",
       "    <tr>\n",
       "      <th>1247</th>\n",
       "      <td>IMG_7092.jpeg</td>\n",
       "      <td>1</td>\n",
       "      <td></td>\n",
       "    </tr>\n",
       "    <tr>\n",
       "      <th>1248</th>\n",
       "      <td>IMG_7122.jpeg</td>\n",
       "      <td>16</td>\n",
       "      <td></td>\n",
       "    </tr>\n",
       "    <tr>\n",
       "      <th>1249</th>\n",
       "      <td>IMG_7215.jpeg</td>\n",
       "      <td>12</td>\n",
       "      <td></td>\n",
       "    </tr>\n",
       "    <tr>\n",
       "      <th>1250</th>\n",
       "      <td>IMG_7239.jpeg</td>\n",
       "      <td>15</td>\n",
       "      <td></td>\n",
       "    </tr>\n",
       "    <tr>\n",
       "      <th>1251</th>\n",
       "      <td>IMG_7250.jpeg</td>\n",
       "      <td>5</td>\n",
       "      <td></td>\n",
       "    </tr>\n",
       "  </tbody>\n",
       "</table>\n",
       "<p>1252 rows × 3 columns</p>\n",
       "</div>"
      ],
      "text/plain": [
       "                                         image  word_counts image_tags\n",
       "0     14B9AA34-3F88-40E2-A3E8-6A2ED0CAE7E1.JPG           43           \n",
       "1                         1631619209578-10.jpg            4           \n",
       "2                         1632643837411-12.jpg           20           \n",
       "3                          1632644162889-2.jpg            4           \n",
       "4                         1632651294334-28.jpg           11           \n",
       "...                                        ...          ...        ...\n",
       "1247                             IMG_7092.jpeg            1           \n",
       "1248                             IMG_7122.jpeg           16           \n",
       "1249                             IMG_7215.jpeg           12           \n",
       "1250                             IMG_7239.jpeg           15           \n",
       "1251                             IMG_7250.jpeg            5           \n",
       "\n",
       "[1252 rows x 3 columns]"
      ]
     },
     "execution_count": 52,
     "metadata": {},
     "output_type": "execute_result"
    }
   ],
   "source": [
    "image_df['image_tags'] = image_df['image_tags'].apply(lambda x: ','.join(map(str, x)))\n",
    "image_df"
   ]
  },
  {
   "cell_type": "code",
   "execution_count": 53,
   "metadata": {
    "id": "xOcHV3lXL9Ct",
    "outputId": "5209e90e-6ea6-4aa7-dee0-a746bd08857e"
   },
   "outputs": [
    {
     "data": {
      "text/plain": [
       "count     1252\n",
       "unique       1\n",
       "top           \n",
       "freq      1252\n",
       "Name: image_tags, dtype: object"
      ]
     },
     "execution_count": 53,
     "metadata": {},
     "output_type": "execute_result"
    }
   ],
   "source": [
    "image_df['image_tags'].describe()"
   ]
  },
  {
   "cell_type": "code",
   "execution_count": 54,
   "metadata": {
    "id": "KtkwFihkL9Cu",
    "outputId": "9a682578-f3f9-4970-d29e-6fe044558ec9"
   },
   "outputs": [
    {
     "data": {
      "text/plain": [
       "{''}"
      ]
     },
     "execution_count": 54,
     "metadata": {},
     "output_type": "execute_result"
    }
   ],
   "source": [
    "# check if there are image with multiple image tags (which would apper as e.g. \"document, outfocus\")\n",
    "set(image_df['image_tags'].tolist())"
   ]
  },
  {
   "cell_type": "code",
   "execution_count": 55,
   "metadata": {
    "id": "ROlVnxDVL9Cu",
    "outputId": "384ee963-0b77-464c-da94-c7881f4465bd"
   },
   "outputs": [
    {
     "data": {
      "text/html": [
       "<div>\n",
       "<style scoped>\n",
       "    .dataframe tbody tr th:only-of-type {\n",
       "        vertical-align: middle;\n",
       "    }\n",
       "\n",
       "    .dataframe tbody tr th {\n",
       "        vertical-align: top;\n",
       "    }\n",
       "\n",
       "    .dataframe thead th {\n",
       "        text-align: right;\n",
       "    }\n",
       "</style>\n",
       "<table border=\"1\" class=\"dataframe\">\n",
       "  <thead>\n",
       "    <tr style=\"text-align: right;\">\n",
       "      <th></th>\n",
       "      <th>word_counts</th>\n",
       "    </tr>\n",
       "  </thead>\n",
       "  <tbody>\n",
       "    <tr>\n",
       "      <th>count</th>\n",
       "      <td>1252.000000</td>\n",
       "    </tr>\n",
       "    <tr>\n",
       "      <th>mean</th>\n",
       "      <td>16.793930</td>\n",
       "    </tr>\n",
       "    <tr>\n",
       "      <th>std</th>\n",
       "      <td>24.477772</td>\n",
       "    </tr>\n",
       "    <tr>\n",
       "      <th>min</th>\n",
       "      <td>0.000000</td>\n",
       "    </tr>\n",
       "    <tr>\n",
       "      <th>25%</th>\n",
       "      <td>3.000000</td>\n",
       "    </tr>\n",
       "    <tr>\n",
       "      <th>50%</th>\n",
       "      <td>8.000000</td>\n",
       "    </tr>\n",
       "    <tr>\n",
       "      <th>75%</th>\n",
       "      <td>19.000000</td>\n",
       "    </tr>\n",
       "    <tr>\n",
       "      <th>max</th>\n",
       "      <td>257.000000</td>\n",
       "    </tr>\n",
       "  </tbody>\n",
       "</table>\n",
       "</div>"
      ],
      "text/plain": [
       "       word_counts\n",
       "count  1252.000000\n",
       "mean     16.793930\n",
       "std      24.477772\n",
       "min       0.000000\n",
       "25%       3.000000\n",
       "50%       8.000000\n",
       "75%      19.000000\n",
       "max     257.000000"
      ]
     },
     "execution_count": 55,
     "metadata": {},
     "output_type": "execute_result"
    }
   ],
   "source": [
    "image_df.describe()"
   ]
  },
  {
   "cell_type": "code",
   "execution_count": 56,
   "metadata": {
    "id": "cKJu9bOQL9Cu",
    "outputId": "04064846-a42b-4326-89ce-fca74423fb33"
   },
   "outputs": [
    {
     "data": {
      "text/plain": [
       "'14B9AA34-3F88-40E2-A3E8-6A2ED0CAE7E1.JPG'"
      ]
     },
     "execution_count": 56,
     "metadata": {},
     "output_type": "execute_result"
    }
   ],
   "source": [
    "# just for checking\n",
    "list(data['images'].keys())[0]"
   ]
  },
  {
   "cell_type": "code",
   "execution_count": 57,
   "metadata": {
    "id": "Ew54X0ZwL9Cu",
    "outputId": "07f736ae-3c2b-4c1b-dd01-74be4ee16020"
   },
   "outputs": [
    {
     "data": {
      "text/plain": [
       "dict_keys(['paragraphs', 'words', 'chars', 'tags', 'relations', 'license_tag'])"
      ]
     },
     "execution_count": 57,
     "metadata": {},
     "output_type": "execute_result"
    }
   ],
   "source": [
    "first_img = list(data['images'].keys())[0]\n",
    "data[\"images\"][first_img].keys()"
   ]
  },
  {
   "cell_type": "code",
   "execution_count": 14,
   "metadata": {
    "id": "DuHJ4j7rL9Cv",
    "outputId": "0e9c6daa-b6bd-448e-eaf2-f4cfebad5cc2"
   },
   "outputs": [
    {
     "name": "stderr",
     "output_type": "stream",
     "text": [
      "/opt/conda/lib/python3.8/site-packages/seaborn/_decorators.py:36: FutureWarning: Pass the following variables as keyword args: x, y. From version 0.12, the only valid positional argument will be `data`, and passing other arguments without an explicit keyword will result in an error or misinterpretation.\n",
      "  warnings.warn(\n"
     ]
    },
    {
     "data": {
      "text/plain": [
       "<seaborn.axisgrid.JointGrid at 0x7fcb062e3c70>"
      ]
     },
     "execution_count": 14,
     "metadata": {},
     "output_type": "execute_result"
    },
    {
     "data": {
      "image/png": "[encoded data removed]",
      "text/plain": [
       "<Figure size 432x432 with 3 Axes>"
      ]
     },
     "metadata": {
      "needs_background": "light"
     },
     "output_type": "display_data"
    }
   ],
   "source": [
    "# image width, height \n",
    "g = sns.jointplot(\"image_width\", \"image_height\", data=image_df, kind=\"kde\", space=0, color=\"r\")\n",
    "g.set_axis_labels(\"Image Width\", \"Image Height\")"
   ]
  },
  {
   "cell_type": "code",
   "execution_count": 58,
   "metadata": {
    "id": "lUAasu_WL9Cv"
   },
   "outputs": [],
   "source": [
    "def create_count_df(df, field, index):\n",
    "    count=df.groupby(field)[index].count().sort_values(ascending=False)\n",
    "    count_df = count.to_frame().reset_index()\n",
    "    count_df.columns = [field, field + '_count']\n",
    "    return count_df\n",
    "\n",
    "def plot_count_df(df, field, random_sample, color, rotation, xlabel, ylabel, title):\n",
    "    fig, ax = plt.subplots(figsize=(10,6))\n",
    "    if random_sample:\n",
    "        df = df.sample(n=50, random_state=1)\n",
    "    bars = ax.bar(df[field], df[field + '_count'], color=color, align='center',alpha=0.5)\n",
    "    for i, b in enumerate(bars):\n",
    "        ax.text(b.get_x()+b.get_width()*(1/2),b.get_height()+0.1, \\\n",
    "                df.iloc[i][field + '_count'],ha='center',fontsize=13)\n",
    "    ax.set_xticklabels(df[field],rotation=rotation, fontsize=13)\n",
    "    ax.set_xlabel(xlabel, fontsize=13)\n",
    "    ax.set_ylabel(ylabel, fontsize=13)\n",
    "    ax.set_title(title, fontsize=20)\n",
    "    plt.show()\n",
    "    "
   ]
  },
  {
   "cell_type": "code",
   "execution_count": 59,
   "metadata": {
    "id": "87mcouiRL9Cv",
    "outputId": "7c38a51d-a649-4317-8714-b38cfa3f54cb"
   },
   "outputs": [
    {
     "name": "stderr",
     "output_type": "stream",
     "text": [
      "/tmp/ipykernel_268/2687934052.py:15: UserWarning: FixedFormatter should only be used together with FixedLocator\n",
      "  ax.set_xticklabels(df[field],rotation=rotation, fontsize=13)\n"
     ]
    },
    {
     "data": {
      "image/png": "[encoded data removed]",
      "text/plain": [
       "<Figure size 720x432 with 1 Axes>"
      ]
     },
     "metadata": {},
     "output_type": "display_data"
    }
   ],
   "source": [
    "img_tag_df = create_count_df(df=image_df, field='image_tags', index='image')\n",
    "plot_count_df(df=img_tag_df, field='image_tags', random_sample=False, color='g', rotation=0, xlabel='image tag', \\\n",
    "              ylabel='Number of image tag', title='Image Tag Distribution')"
   ]
  },
  {
   "cell_type": "code",
   "execution_count": 60,
   "metadata": {
    "id": "4rPu6i9FL9Cv",
    "outputId": "2d0cc815-372c-4fa2-8aa4-775644f1c15b"
   },
   "outputs": [
    {
     "data": {
      "image/png": "[encoded data removed]",
      "text/plain": [
       "<Figure size 720x432 with 1 Axes>"
      ]
     },
     "metadata": {},
     "output_type": "display_data"
    }
   ],
   "source": [
    "# Total word tags \n",
    "word_tag_df = pd.DataFrame(word_tags, columns = ['word_tags'])\n",
    "word_tag_df['index'] = [i for i in range(len(word_tags))]\n",
    "word_tag_df = create_count_df(word_tag_df, field='word_tags',index='index')\n",
    "plot_count_df(df=word_tag_df, field='word_tags', random_sample=False, color='g', rotation=0, xlabel='word tags', \\\n",
    "              ylabel='Count of each word tag', title='Word tag Distribution')"
   ]
  },
  {
   "cell_type": "code",
   "execution_count": 61,
   "metadata": {
    "id": "-XCARHM-L9Cv",
    "outputId": "c6c332be-9c92-4121-b5b4-cd75ba5e02f0"
   },
   "outputs": [
    {
     "ename": "IndexError",
     "evalue": "single positional indexer is out-of-bounds",
     "output_type": "error",
     "traceback": [
      "\u001b[0;31m---------------------------------------------------------------------------\u001b[0m",
      "\u001b[0;31mIndexError\u001b[0m                                Traceback (most recent call last)",
      "\u001b[0;32m/tmp/ipykernel_268/3436612561.py\u001b[0m in \u001b[0;36m<module>\u001b[0;34m\u001b[0m\n\u001b[0;32m----> 1\u001b[0;31m \u001b[0mword_tag_df\u001b[0m\u001b[0;34m.\u001b[0m\u001b[0miloc\u001b[0m\u001b[0;34m[\u001b[0m\u001b[0;36m0\u001b[0m\u001b[0;34m]\u001b[0m\u001b[0;34m[\u001b[0m\u001b[0;34m'word_tags_count'\u001b[0m\u001b[0;34m]\u001b[0m\u001b[0;34m\u001b[0m\u001b[0;34m\u001b[0m\u001b[0m\n\u001b[0m",
      "\u001b[0;32m/opt/conda/lib/python3.8/site-packages/pandas/core/indexing.py\u001b[0m in \u001b[0;36m__getitem__\u001b[0;34m(self, key)\u001b[0m\n\u001b[1;32m    929\u001b[0m \u001b[0;34m\u001b[0m\u001b[0m\n\u001b[1;32m    930\u001b[0m             \u001b[0mmaybe_callable\u001b[0m \u001b[0;34m=\u001b[0m \u001b[0mcom\u001b[0m\u001b[0;34m.\u001b[0m\u001b[0mapply_if_callable\u001b[0m\u001b[0;34m(\u001b[0m\u001b[0mkey\u001b[0m\u001b[0;34m,\u001b[0m \u001b[0mself\u001b[0m\u001b[0;34m.\u001b[0m\u001b[0mobj\u001b[0m\u001b[0;34m)\u001b[0m\u001b[0;34m\u001b[0m\u001b[0;34m\u001b[0m\u001b[0m\n\u001b[0;32m--> 931\u001b[0;31m             \u001b[0;32mreturn\u001b[0m \u001b[0mself\u001b[0m\u001b[0;34m.\u001b[0m\u001b[0m_getitem_axis\u001b[0m\u001b[0;34m(\u001b[0m\u001b[0mmaybe_callable\u001b[0m\u001b[0;34m,\u001b[0m \u001b[0maxis\u001b[0m\u001b[0;34m=\u001b[0m\u001b[0maxis\u001b[0m\u001b[0;34m)\u001b[0m\u001b[0;34m\u001b[0m\u001b[0;34m\u001b[0m\u001b[0m\n\u001b[0m\u001b[1;32m    932\u001b[0m \u001b[0;34m\u001b[0m\u001b[0m\n\u001b[1;32m    933\u001b[0m     \u001b[0;32mdef\u001b[0m \u001b[0m_is_scalar_access\u001b[0m\u001b[0;34m(\u001b[0m\u001b[0mself\u001b[0m\u001b[0;34m,\u001b[0m \u001b[0mkey\u001b[0m\u001b[0;34m:\u001b[0m \u001b[0mtuple\u001b[0m\u001b[0;34m)\u001b[0m\u001b[0;34m:\u001b[0m\u001b[0;34m\u001b[0m\u001b[0;34m\u001b[0m\u001b[0m\n",
      "\u001b[0;32m/opt/conda/lib/python3.8/site-packages/pandas/core/indexing.py\u001b[0m in \u001b[0;36m_getitem_axis\u001b[0;34m(self, key, axis)\u001b[0m\n\u001b[1;32m   1564\u001b[0m \u001b[0;34m\u001b[0m\u001b[0m\n\u001b[1;32m   1565\u001b[0m             \u001b[0;31m# validate the location\u001b[0m\u001b[0;34m\u001b[0m\u001b[0;34m\u001b[0m\u001b[0;34m\u001b[0m\u001b[0m\n\u001b[0;32m-> 1566\u001b[0;31m             \u001b[0mself\u001b[0m\u001b[0;34m.\u001b[0m\u001b[0m_validate_integer\u001b[0m\u001b[0;34m(\u001b[0m\u001b[0mkey\u001b[0m\u001b[0;34m,\u001b[0m \u001b[0maxis\u001b[0m\u001b[0;34m)\u001b[0m\u001b[0;34m\u001b[0m\u001b[0;34m\u001b[0m\u001b[0m\n\u001b[0m\u001b[1;32m   1567\u001b[0m \u001b[0;34m\u001b[0m\u001b[0m\n\u001b[1;32m   1568\u001b[0m             \u001b[0;32mreturn\u001b[0m \u001b[0mself\u001b[0m\u001b[0;34m.\u001b[0m\u001b[0mobj\u001b[0m\u001b[0;34m.\u001b[0m\u001b[0m_ixs\u001b[0m\u001b[0;34m(\u001b[0m\u001b[0mkey\u001b[0m\u001b[0;34m,\u001b[0m \u001b[0maxis\u001b[0m\u001b[0;34m=\u001b[0m\u001b[0maxis\u001b[0m\u001b[0;34m)\u001b[0m\u001b[0;34m\u001b[0m\u001b[0;34m\u001b[0m\u001b[0m\n",
      "\u001b[0;32m/opt/conda/lib/python3.8/site-packages/pandas/core/indexing.py\u001b[0m in \u001b[0;36m_validate_integer\u001b[0;34m(self, key, axis)\u001b[0m\n\u001b[1;32m   1498\u001b[0m         \u001b[0mlen_axis\u001b[0m \u001b[0;34m=\u001b[0m \u001b[0mlen\u001b[0m\u001b[0;34m(\u001b[0m\u001b[0mself\u001b[0m\u001b[0;34m.\u001b[0m\u001b[0mobj\u001b[0m\u001b[0;34m.\u001b[0m\u001b[0m_get_axis\u001b[0m\u001b[0;34m(\u001b[0m\u001b[0maxis\u001b[0m\u001b[0;34m)\u001b[0m\u001b[0;34m)\u001b[0m\u001b[0;34m\u001b[0m\u001b[0;34m\u001b[0m\u001b[0m\n\u001b[1;32m   1499\u001b[0m         \u001b[0;32mif\u001b[0m \u001b[0mkey\u001b[0m \u001b[0;34m>=\u001b[0m \u001b[0mlen_axis\u001b[0m \u001b[0;32mor\u001b[0m \u001b[0mkey\u001b[0m \u001b[0;34m<\u001b[0m \u001b[0;34m-\u001b[0m\u001b[0mlen_axis\u001b[0m\u001b[0;34m:\u001b[0m\u001b[0;34m\u001b[0m\u001b[0;34m\u001b[0m\u001b[0m\n\u001b[0;32m-> 1500\u001b[0;31m             \u001b[0;32mraise\u001b[0m \u001b[0mIndexError\u001b[0m\u001b[0;34m(\u001b[0m\u001b[0;34m\"single positional indexer is out-of-bounds\"\u001b[0m\u001b[0;34m)\u001b[0m\u001b[0;34m\u001b[0m\u001b[0;34m\u001b[0m\u001b[0m\n\u001b[0m\u001b[1;32m   1501\u001b[0m \u001b[0;34m\u001b[0m\u001b[0m\n\u001b[1;32m   1502\u001b[0m     \u001b[0;31m# -------------------------------------------------------------------\u001b[0m\u001b[0;34m\u001b[0m\u001b[0;34m\u001b[0m\u001b[0;34m\u001b[0m\u001b[0m\n",
      "\u001b[0;31mIndexError\u001b[0m: single positional indexer is out-of-bounds"
     ]
    }
   ],
   "source": [
    "word_tag_df.iloc[0]['word_tags_count']"
   ]
  },
  {
   "cell_type": "code",
   "execution_count": 62,
   "metadata": {
    "id": "CPGWzkbGL9Cw"
   },
   "outputs": [],
   "source": [
    "def plot_dist(df, field, bins, color, xlabel, ylabel, title):\n",
    "    sns.set(color_codes=True)\n",
    "    fig, ax = plt.subplots(figsize=(18,6))\n",
    "    sns.distplot(df[field], bins=bins, color=color, ax=ax)\n",
    "    \n",
    "    ax.set_xlabel(xlabel, fontsize=13)\n",
    "    ax.set_ylabel(ylabel, fontsize=13)\n",
    "    ax.set_title(title, fontsize=20)\n",
    "    plt.show()"
   ]
  },
  {
   "cell_type": "code",
   "execution_count": 63,
   "metadata": {
    "id": "GfyWtMeKL9Cw",
    "outputId": "0c0202c6-d40c-432f-8496-f1d3a70f1c77"
   },
   "outputs": [
    {
     "name": "stderr",
     "output_type": "stream",
     "text": [
      "/opt/conda/lib/python3.8/site-packages/seaborn/distributions.py:2619: FutureWarning: `distplot` is a deprecated function and will be removed in a future version. Please adapt your code to use either `displot` (a figure-level function with similar flexibility) or `histplot` (an axes-level function for histograms).\n",
      "  warnings.warn(msg, FutureWarning)\n"
     ]
    },
    {
     "data": {
      "image/png": "[encoded data removed]",
      "text/plain": [
       "<Figure size 1296x432 with 1 Axes>"
      ]
     },
     "metadata": {},
     "output_type": "display_data"
    }
   ],
   "source": [
    "plot_dist(df=image_df, field='word_counts', bins=50, color='b', xlabel='number of words per Image', \\\n",
    "          ylabel='Frequency', title='Words per Image Distribution')"
   ]
  },
  {
   "cell_type": "code",
   "execution_count": 64,
   "metadata": {
    "id": "kSC9LAWXL9Cw"
   },
   "outputs": [],
   "source": [
    "word_df ={}\n",
    "word_df['index'] = [i for i in range(len(total_area))]\n",
    "word_df['orientation'] = orientation\n",
    "word_df['language'] = languages\n",
    "word_df['bbox_size'] = total_area"
   ]
  },
  {
   "cell_type": "code",
   "execution_count": 65,
   "metadata": {
    "id": "gYs2m8x4L9Cw"
   },
   "outputs": [],
   "source": [
    "word_df = pd.DataFrame.from_dict(word_df)"
   ]
  },
  {
   "cell_type": "code",
   "execution_count": 66,
   "metadata": {
    "id": "TQIQ3X3NL9Cw",
    "outputId": "91bd0c4c-b9fa-4fde-c08a-a9af1362d11a"
   },
   "outputs": [
    {
     "data": {
      "text/html": [
       "<div>\n",
       "<style scoped>\n",
       "    .dataframe tbody tr th:only-of-type {\n",
       "        vertical-align: middle;\n",
       "    }\n",
       "\n",
       "    .dataframe tbody tr th {\n",
       "        vertical-align: top;\n",
       "    }\n",
       "\n",
       "    .dataframe thead th {\n",
       "        text-align: right;\n",
       "    }\n",
       "</style>\n",
       "<table border=\"1\" class=\"dataframe\">\n",
       "  <thead>\n",
       "    <tr style=\"text-align: right;\">\n",
       "      <th></th>\n",
       "      <th>index</th>\n",
       "      <th>orientation</th>\n",
       "      <th>language</th>\n",
       "      <th>bbox_size</th>\n",
       "    </tr>\n",
       "  </thead>\n",
       "  <tbody>\n",
       "  </tbody>\n",
       "</table>\n",
       "</div>"
      ],
      "text/plain": [
       "Empty DataFrame\n",
       "Columns: [index, orientation, language, bbox_size]\n",
       "Index: []"
      ]
     },
     "execution_count": 66,
     "metadata": {},
     "output_type": "execute_result"
    }
   ],
   "source": [
    "word_df['language'] = word_df['language'].apply(lambda x: ','.join(map(str, x)))\n",
    "word_df"
   ]
  },
  {
   "cell_type": "code",
   "execution_count": 24,
   "metadata": {
    "id": "YBRAOke8L9Cw",
    "outputId": "1a316ea3-f4ed-4cb3-a701-c866e96076ee"
   },
   "outputs": [
    {
     "data": {
      "text/plain": [
       "count    3608.000000\n",
       "mean        0.024090\n",
       "std         0.043879\n",
       "min         0.000014\n",
       "25%         0.001897\n",
       "50%         0.008219\n",
       "75%         0.025582\n",
       "max         0.423604\n",
       "Name: bbox_size, dtype: float64"
      ]
     },
     "execution_count": 24,
     "metadata": {},
     "output_type": "execute_result"
    }
   ],
   "source": [
    "word_df.describe()['bbox_size']"
   ]
  },
  {
   "cell_type": "code",
   "execution_count": 25,
   "metadata": {
    "id": "1fx0H_6YL9Cw",
    "outputId": "e30ec843-a795-4e84-91f7-97e278b60460"
   },
   "outputs": [
    {
     "data": {
      "text/plain": [
       "Index(['index', 'orientation', 'language', 'bbox_size'], dtype='object')"
      ]
     },
     "execution_count": 25,
     "metadata": {},
     "output_type": "execute_result"
    }
   ],
   "source": [
    "word_df.columns"
   ]
  },
  {
   "cell_type": "code",
   "execution_count": 26,
   "metadata": {
    "id": "rl7ox33cL9Cw",
    "outputId": "a8d0a2bc-c42b-4600-aa5c-c9da49beb721"
   },
   "outputs": [
    {
     "name": "stderr",
     "output_type": "stream",
     "text": [
      "/tmp/ipykernel_268/2687934052.py:15: UserWarning: FixedFormatter should only be used together with FixedLocator\n",
      "  ax.set_xticklabels(df[field],rotation=rotation, fontsize=13)\n"
     ]
    },
    {
     "data": {
      "image/png": "[encoded data removed]",
      "text/plain": [
       "<Figure size 720x432 with 1 Axes>"
      ]
     },
     "metadata": {},
     "output_type": "display_data"
    }
   ],
   "source": [
    "orientation = create_count_df(df=word_df, field='orientation', index='index')\n",
    "plot_count_df(df=orientation, field='orientation', random_sample=False, color='g', rotation=0, xlabel='orientation', \\\n",
    "              ylabel='Count of each orientation', title='Orientation Distribution')"
   ]
  },
  {
   "cell_type": "code",
   "execution_count": 27,
   "metadata": {
    "id": "6bmqpwAwL9Cw",
    "outputId": "0228b552-f197-4c92-e83d-e4688b514930"
   },
   "outputs": [
    {
     "data": {
      "text/html": [
       "<div>\n",
       "<style scoped>\n",
       "    .dataframe tbody tr th:only-of-type {\n",
       "        vertical-align: middle;\n",
       "    }\n",
       "\n",
       "    .dataframe tbody tr th {\n",
       "        vertical-align: top;\n",
       "    }\n",
       "\n",
       "    .dataframe thead th {\n",
       "        text-align: right;\n",
       "    }\n",
       "</style>\n",
       "<table border=\"1\" class=\"dataframe\">\n",
       "  <thead>\n",
       "    <tr style=\"text-align: right;\">\n",
       "      <th></th>\n",
       "      <th>orientation</th>\n",
       "      <th>orientation_count</th>\n",
       "    </tr>\n",
       "  </thead>\n",
       "  <tbody>\n",
       "    <tr>\n",
       "      <th>0</th>\n",
       "      <td>Horizontal</td>\n",
       "      <td>3608</td>\n",
       "    </tr>\n",
       "  </tbody>\n",
       "</table>\n",
       "</div>"
      ],
      "text/plain": [
       "  orientation  orientation_count\n",
       "0  Horizontal               3608"
      ]
     },
     "execution_count": 27,
     "metadata": {},
     "output_type": "execute_result"
    }
   ],
   "source": [
    "orientation"
   ]
  },
  {
   "cell_type": "code",
   "execution_count": 28,
   "metadata": {
    "id": "sTQ615PrL9Cw",
    "outputId": "42befbb7-92cb-4b1e-b3fc-2094f4000fb6"
   },
   "outputs": [
    {
     "name": "stderr",
     "output_type": "stream",
     "text": [
      "/tmp/ipykernel_268/2687934052.py:15: UserWarning: FixedFormatter should only be used together with FixedLocator\n",
      "  ax.set_xticklabels(df[field],rotation=rotation, fontsize=13)\n"
     ]
    },
    {
     "data": {
      "image/png": "[encoded data removed]",
      "text/plain": [
       "<Figure size 720x432 with 1 Axes>"
      ]
     },
     "metadata": {},
     "output_type": "display_data"
    }
   ],
   "source": [
    "# None means it's either a different language or a special symbol\n",
    "lang = create_count_df(df=word_df, field='language', index='index')\n",
    "plot_count_df(df=lang, field='language', random_sample=False, color='g', rotation=0, xlabel='language', \\\n",
    "              ylabel='Count of each language', title='Language Distribution')"
   ]
  },
  {
   "cell_type": "code",
   "execution_count": 29,
   "metadata": {
    "id": "6ZQP1V_nL9Cw",
    "outputId": "1abb0219-8472-4780-d6b1-5d938ebaaa1b"
   },
   "outputs": [
    {
     "name": "stderr",
     "output_type": "stream",
     "text": [
      "/opt/conda/lib/python3.8/site-packages/seaborn/distributions.py:2619: FutureWarning: `distplot` is a deprecated function and will be removed in a future version. Please adapt your code to use either `displot` (a figure-level function with similar flexibility) or `histplot` (an axes-level function for histograms).\n",
      "  warnings.warn(msg, FutureWarning)\n"
     ]
    },
    {
     "data": {
      "image/png": "[encoded data removed]",
      "text/plain": [
       "<Figure size 1296x432 with 1 Axes>"
      ]
     },
     "metadata": {},
     "output_type": "display_data"
    }
   ],
   "source": [
    "plot_dist(df=word_df, field='bbox_size', bins=200, color='r', xlabel='BBOX size', \\\n",
    "          ylabel='Frequency', title='BBOX size')"
   ]
  },
  {
   "cell_type": "code",
   "execution_count": 30,
   "metadata": {
    "id": "S5BdAj4wL9Cw"
   },
   "outputs": [],
   "source": [
    "def plot_dist_list(target_list, bins, color, xlabel, ylabel, title):\n",
    "    sns.set(color_codes=True)\n",
    "    fig, ax = plt.subplots(figsize=(18,6))\n",
    "    sns.distplot(target_list, bins=bins, color=color, ax=ax)\n",
    "    ax.set_xlabel(xlabel, fontsize=13)\n",
    "    ax.set_ylabel(ylabel, fontsize=13)\n",
    "    ax.set_title(title, fontsize=20)\n",
    "    plt.show()"
   ]
  },
  {
   "cell_type": "code",
   "execution_count": 31,
   "metadata": {
    "id": "gU8dLwLhL9Cw",
    "outputId": "ab8bcc0a-9d61-4966-ef18-fc4dbf817f94"
   },
   "outputs": [
    {
     "data": {
      "text/html": [
       "<div>\n",
       "<style scoped>\n",
       "    .dataframe tbody tr th:only-of-type {\n",
       "        vertical-align: middle;\n",
       "    }\n",
       "\n",
       "    .dataframe tbody tr th {\n",
       "        vertical-align: top;\n",
       "    }\n",
       "\n",
       "    .dataframe thead th {\n",
       "        text-align: right;\n",
       "    }\n",
       "</style>\n",
       "<table border=\"1\" class=\"dataframe\">\n",
       "  <thead>\n",
       "    <tr style=\"text-align: right;\">\n",
       "      <th></th>\n",
       "      <th>aspect ratio</th>\n",
       "    </tr>\n",
       "  </thead>\n",
       "  <tbody>\n",
       "    <tr>\n",
       "      <th>count</th>\n",
       "      <td>0</td>\n",
       "    </tr>\n",
       "    <tr>\n",
       "      <th>unique</th>\n",
       "      <td>0</td>\n",
       "    </tr>\n",
       "    <tr>\n",
       "      <th>top</th>\n",
       "      <td>NaN</td>\n",
       "    </tr>\n",
       "    <tr>\n",
       "      <th>freq</th>\n",
       "      <td>NaN</td>\n",
       "    </tr>\n",
       "  </tbody>\n",
       "</table>\n",
       "</div>"
      ],
      "text/plain": [
       "       aspect ratio\n",
       "count             0\n",
       "unique            0\n",
       "top             NaN\n",
       "freq            NaN"
      ]
     },
     "execution_count": 31,
     "metadata": {},
     "output_type": "execute_result"
    }
   ],
   "source": [
    "pd.DataFrame(ver_aspect_ratio, columns=['aspect ratio']).describe()"
   ]
  },
  {
   "cell_type": "code",
   "execution_count": 32,
   "metadata": {
    "id": "fI7YcqtZL9Cx",
    "outputId": "bc3325e7-7a0d-4351-e16f-e0e60dd7754d"
   },
   "outputs": [
    {
     "name": "stderr",
     "output_type": "stream",
     "text": [
      "/opt/conda/lib/python3.8/site-packages/seaborn/distributions.py:2619: FutureWarning: `distplot` is a deprecated function and will be removed in a future version. Please adapt your code to use either `displot` (a figure-level function with similar flexibility) or `histplot` (an axes-level function for histograms).\n",
      "  warnings.warn(msg, FutureWarning)\n"
     ]
    },
    {
     "data": {
      "image/png": "[encoded data removed]",
      "text/plain": [
       "<Figure size 1296x432 with 1 Axes>"
      ]
     },
     "metadata": {},
     "output_type": "display_data"
    }
   ],
   "source": [
    "# 한 두글자짜리 단어나 숫자의 경우 aspect ratio가 1미만인 경우가 있다\n",
    "plot_dist_list(hor_aspect_ratio, bins=20, color='r', xlabel='Aspect Ratio (BBOX Width / BBOX Height)', \\\n",
    "          ylabel='Frequency', title='Aspect Ratio Distribution (Horizontal words)')"
   ]
  },
  {
   "cell_type": "code",
   "execution_count": 35,
   "metadata": {},
   "outputs": [
    {
     "data": {
      "text/plain": [
       "[]"
      ]
     },
     "execution_count": 35,
     "metadata": {},
     "output_type": "execute_result"
    }
   ],
   "source": [
    "ver_aspect_ratio"
   ]
  },
  {
   "cell_type": "code",
   "execution_count": 34,
   "metadata": {
    "id": "uMylTv-tL9Cx",
    "outputId": "21c54831-ff69-42ae-e42f-9bc5d186b471"
   },
   "outputs": [
    {
     "data": {
      "image/png": "[encoded data removed]",
      "text/plain": [
       "<Figure size 1296x432 with 1 Axes>"
      ]
     },
     "metadata": {},
     "output_type": "display_data"
    }
   ],
   "source": [
    "# aspect ratio가 1.88정도 되는 경우가 하나 있음. 이미지에서 글자가 왜곡되어 있었고 박스가 약간 널널하게 잡힌 케이스. \n",
    "plot_dist_list(ver_aspect_ratio, bins=20, color='r', xlabel='Aspect Ratio (BBOX Width / BBOX Height)', \\\n",
    "          ylabel='Frequency', title='Aspect Ratio Distribution (Veritcal words)')"
   ]
  },
  {
   "cell_type": "code",
   "execution_count": null,
   "metadata": {},
   "outputs": [],
   "source": []
  }
 ],
 "metadata": {
  "colab": {
   "collapsed_sections": [],
   "name": "OCR_EDA_revised.ipynb",
   "provenance": []
  },
  "kernelspec": {
   "display_name": "Python 3 (ipykernel)",
   "language": "python",
   "name": "python3"
  },
  "language_info": {
   "codemirror_mode": {
    "name": "ipython",
    "version": 3
   },
   "file_extension": ".py",
   "mimetype": "text/x-python",
   "name": "python",
   "nbconvert_exporter": "python",
   "pygments_lexer": "ipython3",
   "version": "3.8.5"
  }
 },
 "nbformat": 4,
 "nbformat_minor": 4
}
